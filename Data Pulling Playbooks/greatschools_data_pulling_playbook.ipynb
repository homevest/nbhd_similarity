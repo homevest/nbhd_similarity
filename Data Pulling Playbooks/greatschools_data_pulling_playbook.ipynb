{
 "cells": [
  {
   "cell_type": "markdown",
   "id": "2536a099-62f7-444c-9ed3-8e25de9e1cb9",
   "metadata": {
    "tags": []
   },
   "source": [
    "# Great Schools Data Setup Process"
   ]
  },
  {
   "cell_type": "code",
   "execution_count": null,
   "id": "89a62f78-fc78-4f0a-939e-c5a0e55ab237",
   "metadata": {},
   "outputs": [],
   "source": []
  },
  {
   "cell_type": "code",
   "execution_count": null,
   "id": "6f4f0f7b-78cb-42cc-8edc-8dec5e219fd8",
   "metadata": {},
   "outputs": [],
   "source": []
  },
  {
   "cell_type": "code",
   "execution_count": null,
   "id": "0257333f-d42f-4bc8-aadf-e42c845e8c1a",
   "metadata": {},
   "outputs": [],
   "source": []
  },
  {
   "cell_type": "code",
   "execution_count": null,
   "id": "38da2b8b-bf72-4c76-afd3-14683e3afe57",
   "metadata": {},
   "outputs": [],
   "source": []
  },
  {
   "cell_type": "code",
   "execution_count": null,
   "id": "cfc8d643-8cb8-49e5-92d2-46d10e4c839e",
   "metadata": {},
   "outputs": [],
   "source": []
  },
  {
   "cell_type": "code",
   "execution_count": null,
   "id": "58983722-3f08-45cb-b8cc-8de6642fd4c2",
   "metadata": {},
   "outputs": [],
   "source": []
  }
 ],
 "metadata": {
  "environment": {
   "kernel": "python3",
   "name": "common-cpu.m94",
   "type": "gcloud",
   "uri": "gcr.io/deeplearning-platform-release/base-cpu:m94"
  },
  "kernelspec": {
   "display_name": "Python 3",
   "language": "python",
   "name": "python3"
  },
  "language_info": {
   "codemirror_mode": {
    "name": "ipython",
    "version": 3
   },
   "file_extension": ".py",
   "mimetype": "text/x-python",
   "name": "python",
   "nbconvert_exporter": "python",
   "pygments_lexer": "ipython3",
   "version": "3.7.12"
  }
 },
 "nbformat": 4,
 "nbformat_minor": 5
}
