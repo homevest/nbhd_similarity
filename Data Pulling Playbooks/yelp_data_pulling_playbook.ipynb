{
 "cells": [
  {
   "cell_type": "markdown",
   "id": "aaef6f93-112d-4865-aedc-79668a4dd13b",
   "metadata": {},
   "source": [
    "# Yelp Data Setup Process"
   ]
  },
  {
   "cell_type": "markdown",
   "id": "1190cb08-9aea-49c8-b4dc-5cf63426b781",
   "metadata": {
    "tags": []
   },
   "source": [
    "## Naming Conventions in BigQuery"
   ]
  },
  {
   "cell_type": "markdown",
   "id": "e668b930-013e-4527-bf7a-0f1a836ce68d",
   "metadata": {},
   "source": [
    "All Yelp data used in this framework are stored in the homevest-data.nbhd_similarity dataset with the following naming convention. Unlike google places data, the yelp API pulls by CBSA code/at the CBSA scope, and thus is named as such. \n",
    "\n",
    "* “yelp_{KEYWORD}_{CBSA CODE}”\n",
    "* ex:\n",
    "    * “yelp_nightlife_26900”"
   ]
  },
  {
   "cell_type": "markdown",
   "id": "39f5b3c4-8878-443f-9d02-f4d51b1bb59c",
   "metadata": {
    "tags": []
   },
   "source": [
    "## Pulling & Storing Yelp Data"
   ]
  },
  {
   "cell_type": "markdown",
   "id": "af98e733-63da-4df1-b318-9d89ff16e3b0",
   "metadata": {},
   "source": [
    "Follow [here](https://github.com/homevest/yelp-business-info-scraper) for Yelp API instructions for pulling and storing yelp data. \"SEARCH_REGION_TYPE\" argument in the commandline script is meant to indicate whether to search at the block group scope or the census tract scope. If a location has over 5000 block groups, use the ct (census tract) option to pull. \n",
    "\n",
    "**Yelp API has a 5000 call/day limit (per API key ;) ).**\n",
    "\n",
    "Use the following conventions for command line scripts to store and name datatables correctly."
   ]
  },
  {
   "cell_type": "markdown",
   "id": "bc74f81a-390d-455b-b4b3-992307e89881",
   "metadata": {
    "tags": []
   },
   "source": [
    "## Usage\n",
    "\n",
    "1. Set the environment variables `set -a; source .env.prod`\n",
    "\n",
    "2. Download Yelp API results to Google Cloud Storage:\n",
    "This is standard according to the Readme instructions.\n",
    "\n",
    "`bash python3 src/load_results_to_gcs.py -c YELP_CATEGORY -n MARKET_NAME -m MSA_CBSA_CODE -s STATE_FIPS_CODE -r SEARCH_REGION_TYPE(ct|bg)`\n",
    "\n",
    "   \n",
    "3. Clean the results and load to BigQuery for analysis:\n",
    "Here, name BQ_table according to naming convention above. And make sure to have BQ_DATASET to **nbhd_similarity**.\n",
    "\n",
    "`bash python3 src/upload_results_to_bigquery.py -c YELP_CATEGORY -d BQ_DATASET -t BQ_TABLE -n MARKET_NAME -m MSA_CBSA_CODE -s STATE_FIPS_CODE -r SEARCH_REGION_TYPE(ct|bg)`"
   ]
  },
  {
   "cell_type": "markdown",
   "id": "27487c52-903a-449d-8e09-6cf7e28cb20d",
   "metadata": {},
   "source": [
    "##### Once the data is available on bigquery, check the Yelp Data section in documentation for information on pulling the yelp data."
   ]
  }
 ],
 "metadata": {
  "environment": {
   "kernel": "python3",
   "name": "common-cpu.m94",
   "type": "gcloud",
   "uri": "gcr.io/deeplearning-platform-release/base-cpu:m94"
  },
  "kernelspec": {
   "display_name": "Python 3",
   "language": "python",
   "name": "python3"
  },
  "language_info": {
   "codemirror_mode": {
    "name": "ipython",
    "version": 3
   },
   "file_extension": ".py",
   "mimetype": "text/x-python",
   "name": "python",
   "nbconvert_exporter": "python",
   "pygments_lexer": "ipython3",
   "version": "3.7.12"
  }
 },
 "nbformat": 4,
 "nbformat_minor": 5
}
